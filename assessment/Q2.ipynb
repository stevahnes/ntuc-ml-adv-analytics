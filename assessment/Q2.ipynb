{
 "metadata": {
  "language_info": {
   "codemirror_mode": {
    "name": "ipython",
    "version": 3
   },
   "file_extension": ".py",
   "mimetype": "text/x-python",
   "name": "python",
   "nbconvert_exporter": "python",
   "pygments_lexer": "ipython3",
   "version": 3
  },
  "orig_nbformat": 2
 },
 "nbformat": 4,
 "nbformat_minor": 2,
 "cells": [
  {
   "source": [
    "# K-Means Algorithm - How It Works\n",
    "\n",
    "K-Means algorithm works by selecting n number of arbitrary points as initial cluster centers, where the optimal n is determined using methods such as elbow method.\n",
    "\n",
    "In the case of the iris dataset, the elbow method indicated that the value 3 is the optimal number of clusters (i.e. n = 3).\n",
    "\n",
    "Once the arbitrary cluster centers were chosen, the algorithm starts by selecting the first datapoint and attempt to categorize it into one of the 3 clusters identified. For example, the algorithm will take the first datapoint and try to classify it under either Setosa, Virginica, or Versicolor. This is done by minimizing the distance between the cluster center and the datapoint.\n",
    "\n",
    "Once a classification is set, the algorithm then recomputes the best position of the selected cluster center. For example, if the first dataset belongs to Setosa, then the algorithm evaluates if the cluster center of Virginica can be moved to minimize its distance to the datapoint(s) belonging to it. If yes, the algorithm moves it as such.\n",
    "\n",
    "It then goes on to the next datapoint, and repeats the whole process.\n",
    "\n",
    "What ends up happening is the cycle of (a) classification of a datapoint into one of the available clusters and (b) repositioning of the selected cluster center. The cycle will end when all datapoints belong to one of the established clusters, and the cluster centers no longer moved."
   ],
   "cell_type": "markdown",
   "metadata": {}
  }
 ]
}